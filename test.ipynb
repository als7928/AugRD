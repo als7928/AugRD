{
 "cells": [
  {
   "cell_type": "code",
   "execution_count": 17,
   "metadata": {},
   "outputs": [
    {
     "name": "stdout",
     "output_type": "stream",
     "text": [
      "torch.Size([2, 3, 128]) torch.Size([2, 3])\n",
      "torch.Size([3, 128])\n"
     ]
    }
   ],
   "source": [
    "import torch\n",
    "a = torch.zeros(2,3,128)\n",
    "b = torch.tensor([[0,1],[1,0],[0,1]]).t()\n",
    "print(a.shape,b.shape)\n",
    "c= a[b==0]\n",
    "print(c.shape)"
   ]
  }
 ],
 "metadata": {
  "kernelspec": {
   "display_name": "CL",
   "language": "python",
   "name": "python3"
  },
  "language_info": {
   "codemirror_mode": {
    "name": "ipython",
    "version": 3
   },
   "file_extension": ".py",
   "mimetype": "text/x-python",
   "name": "python",
   "nbconvert_exporter": "python",
   "pygments_lexer": "ipython3",
   "version": "3.8.19"
  }
 },
 "nbformat": 4,
 "nbformat_minor": 2
}
